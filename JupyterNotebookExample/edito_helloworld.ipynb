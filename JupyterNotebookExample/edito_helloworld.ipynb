{
 "cells": [
  {
   "cell_type": "markdown",
   "id": "3ddca811",
   "metadata": {},
   "source": [
    "# EDITO API Helper\n",
    "\n",
    "This Notebook includes basic functions to interact with the EDITO API.\n",
    "\n",
    "Login is required for most actions and so it is advised to do it first. Whenever an action fails due to lack of authorization, refresh the access token."
   ]
  },
  {
   "cell_type": "code",
   "execution_count": null,
   "id": "c7840f24",
   "metadata": {},
   "outputs": [],
   "source": [
    "!pip3 install requests\n",
    "\n",
    "import requests\n",
    "from xml.etree import ElementTree\n",
    "import json\n",
    "from time import sleep"
   ]
  },
  {
   "cell_type": "code",
   "execution_count": null,
   "id": "8f35c592",
   "metadata": {},
   "outputs": [],
   "source": [
    "username = \"\"\n",
    "password = \"\"\n",
    "process_id = \"data-pre-post-processing-iliad-helloworld-0.0.21\"\n",
    "\n",
    "processes_endpoint = \"https://api.dive.edito.eu/processes\"\n",
    "minio_endpoint = \"https://minio.dive.edito.eu\"\n",
    "token_endpoint = \"https://auth.dive.edito.eu/auth/realms/datalab/protocol/openid-connect/token\""
   ]
  },
  {
   "cell_type": "markdown",
   "id": "5b36e0f4",
   "metadata": {},
   "source": [
    "## Authentication"
   ]
  },
  {
   "cell_type": "code",
   "execution_count": null,
   "id": "0b188348",
   "metadata": {},
   "outputs": [],
   "source": [
    "def login(username: str, password: str):\n",
    "    data = {\n",
    "        \"client_id\": \"onyxia\",\n",
    "        \"username\": username,\n",
    "        \"password\": password,\n",
    "        \"grant_type\": \"password\",\n",
    "        \"scope\": \"openid\",\n",
    "    }\n",
    "    res = requests.post(token_endpoint, data=data)\n",
    "    if res.status_code != 200:\n",
    "        return None\n",
    "    return res.json()\n",
    "\n",
    "\n",
    "def refresh_token(token: str):\n",
    "    data = {\n",
    "        \"client_id\": \"onyxia\",\n",
    "        \"grant_type\": \"refresh_token\",\n",
    "        \"refresh_token\": token,\n",
    "    }\n",
    "    response = requests.post(token_endpoint, data=data)\n",
    "    if response.status_code != 200:\n",
    "        return None\n",
    "    return response.json()\n",
    "\n",
    "\n",
    "def auth_s3(username: str, password: str):\n",
    "    headers = {\"Content-Type\": \"application/x-www-form-urlencoded\"}\n",
    "\n",
    "    data = {\n",
    "        \"client_id\": \"onyxia-minio\",\n",
    "        \"username\": username,\n",
    "        \"password\": password,\n",
    "        \"grant_type\": \"password\",\n",
    "        \"scope\": \"openid email profile\",\n",
    "    }\n",
    "\n",
    "    response = requests.post(token_endpoint, headers=headers, data=data)\n",
    "    json_response = response.json()\n",
    "    access_token = json_response[\"access_token\"]\n",
    "\n",
    "    params = {\n",
    "        \"Action\": \"AssumeRoleWithWebIdentity\",\n",
    "        \"WebIdentityToken\": access_token,\n",
    "        \"DurationSeconds\": \"86400\",\n",
    "        \"Version\": \"2011-06-15\",\n",
    "    }\n",
    "\n",
    "    response = requests.post(minio_endpoint, params=params)\n",
    "\n",
    "    root = ElementTree.fromstring(response.content)\n",
    "    namespace_as_text = root.tag[root.tag.find(\"{\") + 1 : root.tag.find(\"}\")]\n",
    "    namespace = {\"ns\": namespace_as_text}\n",
    "    access_key_id = root.find(\".//ns:AccessKeyId\", namespace).text\n",
    "    secret_access_key = root.find(\".//ns:SecretAccessKey\", namespace).text\n",
    "    session_token = root.find(\".//ns:SessionToken\", namespace).text\n",
    "\n",
    "    return {\n",
    "        \"access_key_id\": access_key_id,\n",
    "        \"secret_access_key\": secret_access_key,\n",
    "        \"session_token\": session_token,\n",
    "    }"
   ]
  },
  {
   "cell_type": "markdown",
   "id": "71cb9c3c",
   "metadata": {},
   "source": [
    "### Login"
   ]
  },
  {
   "cell_type": "code",
   "execution_count": null,
   "id": "b170c906",
   "metadata": {},
   "outputs": [],
   "source": [
    "if auth_data := login(username, password):\n",
    "    print(f\"Authenticated as {username}.\")\n",
    "else:\n",
    "    print(\"Failed authentication.\")"
   ]
  },
  {
   "cell_type": "markdown",
   "id": "16805699",
   "metadata": {},
   "source": [
    "### Refresh token"
   ]
  },
  {
   "cell_type": "code",
   "execution_count": null,
   "id": "229aea0c",
   "metadata": {},
   "outputs": [],
   "source": [
    "if auth_data := refresh_token(auth_data[\"refresh_token\"]):\n",
    "    print(\"Refreshed access token.\")\n",
    "else:\n",
    "    print(\"Failed refreshing access token.\")"
   ]
  },
  {
   "cell_type": "markdown",
   "id": "83428286",
   "metadata": {},
   "source": [
    "### S3 credentials"
   ]
  },
  {
   "cell_type": "code",
   "execution_count": null,
   "id": "f0abb315",
   "metadata": {},
   "outputs": [],
   "source": [
    "s3_credentials = auth_s3(username, password)"
   ]
  },
  {
   "cell_type": "markdown",
   "id": "ae98e39e",
   "metadata": {},
   "source": [
    "## Execution"
   ]
  },
  {
   "cell_type": "markdown",
   "id": "dee6505c",
   "metadata": {},
   "source": [
    "### List Processes\n",
    "\n",
    "List all processes in the EDITO platform. Output format is YAML and can be parsed with ease."
   ]
  },
  {
   "cell_type": "code",
   "execution_count": null,
   "id": "e53aff31",
   "metadata": {},
   "outputs": [],
   "source": [
    "def list_processes():\n",
    "    res = requests.get(\n",
    "        f\"{processes_endpoint}/processes\",\n",
    "        headers={\"accept\": \"application/json\"},\n",
    "    )\n",
    "    if res.status_code != 200:\n",
    "        return None\n",
    "    return res.json()[\"processes\"]"
   ]
  },
  {
   "cell_type": "code",
   "execution_count": null,
   "id": "08b9c292",
   "metadata": {},
   "outputs": [],
   "source": [
    "print(\"processes:\")\n",
    "if procs := list_processes():\n",
    "    for i in procs:\n",
    "        print(f\"- title: {i['title']}\")\n",
    "        print(f\"  name: {i['id']}\")\n",
    "        print(f\"  description: {i['description']}\")"
   ]
  },
  {
   "cell_type": "markdown",
   "id": "a9f813de",
   "metadata": {},
   "source": [
    "### Get Process by ID\n",
    "\n",
    "Display all information of a Process found by its ID."
   ]
  },
  {
   "cell_type": "code",
   "execution_count": null,
   "id": "2721d5c1",
   "metadata": {},
   "outputs": [],
   "source": [
    "headers = {\n",
    "    \"Content-Type\": \"application/json\",\n",
    "    \"Authorization\": f\"Bearer {auth_data['access_token']}\",\n",
    "}\n",
    "\n",
    "r = requests.get(f\"{processes_endpoint}/processes/{process_id}\", headers=headers)\n",
    "print(f\"Process {process_id} details:\")\n",
    "print(json.dumps(r.json(), indent=2))"
   ]
  },
  {
   "cell_type": "markdown",
   "id": "ede10bc5",
   "metadata": {},
   "source": [
    "### Execute Process\n",
    "\n",
    "Write Process input values and request its execution.\n",
    "\n",
    "Inputs must follow schema provided.\n",
    "\n",
    "If container images are private, credentials must be written to pullSecret."
   ]
  },
  {
   "cell_type": "code",
   "execution_count": null,
   "id": "da155cb7",
   "metadata": {},
   "outputs": [],
   "source": [
    "process_inputs = {\n",
    "    \"onyxia\": {\"friendlyName\": process_id, \"share\": False},\n",
    "    \"inputs\": {\n",
    "        \"name\": \"ILIAD\"\n",
    "    },\n",
    "    \"resources\": {\n",
    "        \"limits\": {\"cpu\": \"7200m\", \"memory\": \"28Gi\"},\n",
    "        \"requests\": {\"cpu\": \"1000m\", \"memory\": \"16Gi\"},\n",
    "    },\n",
    "    \"s3\": {\n",
    "        \"enabled\": True,\n",
    "        \"endpoint\": minio_endpoint.replace(\"https://\",\"\"),\n",
    "        \"defaultRegion\": \"waw3-1\",\n",
    "        \"accessKeyId\": s3_credentials[\"access_key_id\"],\n",
    "        \"secretAccessKey\": s3_credentials[\"secret_access_key\"],\n",
    "        \"sessionToken\": s3_credentials[\"session_token\"],\n",
    "    },\n",
    "}"
   ]
  },
  {
   "cell_type": "code",
   "execution_count": null,
   "id": "bb64100b",
   "metadata": {},
   "outputs": [],
   "source": [
    "headers = {\n",
    "    \"Content-Type\": \"application/json\",\n",
    "    \"Authorization\": f\"Bearer {auth_data['access_token']}\",\n",
    "}\n",
    "\n",
    "r = requests.post(\n",
    "    f\"{processes_endpoint}/processes/{process_id}/execution\",\n",
    "    data=json.dumps(\n",
    "        {\n",
    "            \"processInputs\": process_inputs,\n",
    "            \"metadata\": {},\n",
    "        }\n",
    "    ),\n",
    "    headers=headers,\n",
    ")\n",
    "\n",
    "assert r.status_code == 201 and r.reason == \"Created\", (\n",
    "    f\"ERROR: request failed: {r.status_code} {r.reason}\"\n",
    ")\n",
    "\n",
    "job_tmp = r.json()\n",
    "print(json.dumps(job_tmp, indent=2))\n",
    "job_id = job_tmp[\"jobID\"]"
   ]
  },
  {
   "cell_type": "markdown",
   "id": "45847cdd",
   "metadata": {},
   "source": [
    "### Monitor Job status\n",
    "\n",
    "Every 5s checks job status.\n",
    "\n",
    "Automatically refreshes access token."
   ]
  },
  {
   "cell_type": "code",
   "execution_count": null,
   "id": "b6d04531",
   "metadata": {},
   "outputs": [],
   "source": [
    "status = \"running\"\n",
    "wait_time = 5\n",
    "\n",
    "endpoint = f\"{processes_endpoint}/jobs/{job_id}\"\n",
    "\n",
    "while status == \"running\":\n",
    "    sleep(wait_time)\n",
    "\n",
    "    headers = {\n",
    "        \"Content-Type\": \"application/json\",\n",
    "        \"Authorization\": f\"Bearer {auth_data['access_token']}\",\n",
    "    }\n",
    "\n",
    "    r = requests.get(endpoint, headers=headers)\n",
    "\n",
    "    if r.status_code == 401:\n",
    "        print(\"Unauthorized access. Refreshing token...\")\n",
    "        auth_data = refresh_token()\n",
    "        continue\n",
    "\n",
    "    job_tmp = r.json()\n",
    "    status = job_tmp[\"status\"]\n",
    "\n",
    "    print(json.dumps(job_tmp))"
   ]
  },
  {
   "cell_type": "markdown",
   "id": "c5f09af3",
   "metadata": {},
   "source": [
    "### Get Job results\n",
    "\n",
    "Display all results of a job."
   ]
  },
  {
   "cell_type": "code",
   "execution_count": null,
   "id": "82feb0d5",
   "metadata": {},
   "outputs": [],
   "source": [
    "headers = {\n",
    "    \"Content-Type\": \"application/json\",\n",
    "    \"Authorization\": f\"Bearer {auth_data['access_token']}\",\n",
    "}\n",
    "\n",
    "r = requests.get(\n",
    "    f\"{processes_endpoint}/jobs/{job_id}/results\",\n",
    "    headers=headers,\n",
    ")\n",
    "\n",
    "results_tmp = r.json()\n",
    "print(json.dumps(results_tmp, indent=2))\n"
   ]
  }
 ],
 "metadata": {
  "kernelspec": {
   "display_name": "Python 3",
   "language": "python",
   "name": "python3"
  },
  "language_info": {
   "codemirror_mode": {
    "name": "ipython",
    "version": 3
   },
   "file_extension": ".py",
   "mimetype": "text/x-python",
   "name": "python",
   "nbconvert_exporter": "python",
   "pygments_lexer": "ipython3",
   "version": "3.9.6"
  }
 },
 "nbformat": 4,
 "nbformat_minor": 5
}
