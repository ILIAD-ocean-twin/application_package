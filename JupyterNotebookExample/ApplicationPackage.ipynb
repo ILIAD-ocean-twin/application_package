{
 "cells": [
  {
   "cell_type": "markdown",
   "id": "2d5a5330",
   "metadata": {},
   "source": [
    "# ADES processes"
   ]
  },
  {
   "cell_type": "markdown",
   "id": "fa082d52",
   "metadata": {},
   "source": [
    "## OGC API Features"
   ]
  },
  {
   "cell_type": "markdown",
   "id": "8eb7f131",
   "metadata": {},
   "source": [
    "### Install dependencies"
   ]
  },
  {
   "cell_type": "code",
   "execution_count": null,
   "id": "6ac95b56",
   "metadata": {},
   "outputs": [],
   "source": [
    "!pip3 install requests\n",
    "!pip3 install -U --force-reinstall charset-normalizer"
   ]
  },
  {
   "cell_type": "markdown",
   "id": "e5b8b5b7",
   "metadata": {},
   "source": [
    "### Import libraries"
   ]
  },
  {
   "cell_type": "code",
   "execution_count": null,
   "id": "8cf3bff0",
   "metadata": {},
   "outputs": [],
   "source": [
    "import requests"
   ]
  },
  {
   "cell_type": "markdown",
   "id": "c68605c2",
   "metadata": {},
   "source": [
    "### Service variables"
   ]
  },
  {
   "cell_type": "code",
   "execution_count": null,
   "id": "e4184d2a",
   "metadata": {},
   "outputs": [],
   "source": [
    "url = \"https://iliad-registry.inesctec.pt/collections/apkg/items?f=json\"\n",
    "process_name = \"bathymetry_pipeline\""
   ]
  },
  {
   "cell_type": "markdown",
   "id": "793b31de",
   "metadata": {},
   "source": [
    "### Search processes"
   ]
  },
  {
   "cell_type": "code",
   "execution_count": null,
   "id": "1f71f157",
   "metadata": {},
   "outputs": [],
   "source": [
    "headers = {\n",
    "    \"Content-Type\": \"application/query-cql-json\"\n",
    "}\n",
    "\n",
    "payload = None\n",
    "\n",
    "r = requests.get(url+f\"&name={process_name}\", headers=headers, json=payload)\n",
    "response = r.json()\n",
    "for i in response[\"features\"]:\n",
    "    id = i[\"id\"]\n",
    "    p_type = i[\"properties\"][\"class\"]\n",
    "    name = i[\"properties\"][\"name\"]\n",
    "    description = i[\"properties\"][\"description\"]\n",
    "    version = i[\"properties\"][\"software_version\"]\n",
    "    code_url = i[\"properties\"][\"code_repository\"]\n",
    "    print(f\"\\t- {id}\")\n",
    "    print(f\"\\t     {p_type}\")\n",
    "    print(f\"\\t     {name}\")\n",
    "    print(f\"\\t     {description}\")\n",
    "    print(f\"\\t     @{version}\")\n",
    "    print(f\"\\t     {code_url}\")"
   ]
  },
  {
   "cell_type": "markdown",
   "id": "9a14223e",
   "metadata": {},
   "source": [
    "## OGC API Processes"
   ]
  },
  {
   "cell_type": "markdown",
   "id": "cb8f5980",
   "metadata": {},
   "source": [
    "### Install dependencies"
   ]
  },
  {
   "cell_type": "code",
   "execution_count": null,
   "id": "717cdeb7",
   "metadata": {},
   "outputs": [],
   "source": [
    "!pip3 install requests\n",
    "!pip3 install -U --force-reinstall charset-normalizer"
   ]
  },
  {
   "cell_type": "markdown",
   "id": "0dac5f72",
   "metadata": {},
   "source": [
    "### Import libraries"
   ]
  },
  {
   "cell_type": "code",
   "execution_count": null,
   "id": "f66f0913",
   "metadata": {},
   "outputs": [],
   "source": [
    "import requests\n",
    "from time import sleep\n",
    "import json"
   ]
  },
  {
   "cell_type": "markdown",
   "id": "0d12e025",
   "metadata": {},
   "source": [
    "### Service variables"
   ]
  },
  {
   "cell_type": "code",
   "execution_count": null,
   "id": "1760aa4f",
   "metadata": {},
   "outputs": [],
   "source": [
    "url = \"https://iliad-processes.terradue.com\"\n",
    "endpoint = f\"{url}/inesctec/wps3\""
   ]
  },
  {
   "cell_type": "markdown",
   "id": "0a663169",
   "metadata": {},
   "source": [
    "### Search processes"
   ]
  },
  {
   "cell_type": "code",
   "execution_count": null,
   "id": "83096851",
   "metadata": {},
   "outputs": [],
   "source": [
    "r = requests.get(f\"{endpoint}/processes\", headers={'accept':'application/json'})\n",
    "assert r.status_code == 200 and r.reason == 'OK', f'ERROR: request failed: {r.status_code} {r.reason} \\n{endpoint}/processes'\n",
    "\n",
    "response = r.json()\n",
    "\n",
    "print(\"# Processes found:\")\n",
    "for i in response[\"processes\"]:\n",
    "    name = i[\"id\"]\n",
    "    title = i[\"title\"]\n",
    "    description = i[\"description\"]\n",
    "    version = i[\"version\"]\n",
    "    print(f\"\\t- {name}\")\n",
    "    print(f\"\\t     {title}\")\n",
    "    print(f\"\\t     {description}\")\n",
    "    print(f\"\\t     @{version}\")"
   ]
  },
  {
   "cell_type": "markdown",
   "id": "e1e2c424",
   "metadata": {},
   "source": [
    "### Deploy a process\n",
    "Edit the next block to insert the CWL URL that represents the process"
   ]
  },
  {
   "cell_type": "code",
   "execution_count": null,
   "id": "507eef09",
   "metadata": {},
   "outputs": [],
   "source": [
    "cwl_url = \"https://raw.githubusercontent.com/ILIAD-ocean-twin/application_package/refs/heads/main/inesctec_apkgs/workflows/bathymetry-pipeline/bathymetry_pipeline_0_1_0.cwl\""
   ]
  },
  {
   "cell_type": "code",
   "execution_count": null,
   "id": "ca3ca885",
   "metadata": {},
   "outputs": [],
   "source": [
    "r = requests.post(f\"{endpoint}/processes\", json={\"executionUnit\": {'href': cwl_url, \"type\": \"application/cwl\"}})\n",
    "assert r.status_code == 201 and r.reason == 'Created', f'ERROR: request failed: {r.status_code} {r.reason}'\n",
    "\n",
    "response = r.json()\n",
    "\n",
    "print(\"Process created!\\n\")\n",
    "print(\"process_id: \", response['id'])\n",
    "print(\"title: \", response['title'])\n",
    "print(\"description: \", response['description'])\n",
    "print(\"version: \", response['version'])"
   ]
  },
  {
   "cell_type": "markdown",
   "metadata": {},
   "source": [
    "### Choose process and inputs\n",
    "Edit the next block to select the process and inputs to create a job"
   ]
  },
  {
   "cell_type": "code",
   "execution_count": null,
   "id": "bb1df948",
   "metadata": {},
   "outputs": [],
   "source": [
    "process_id = \"bathymetry_pipeline\"\n",
    "f = open(\"./process_inputs.json\", \"r\")\n",
    "process_inputs = json.load(f)"
   ]
  },
  {
   "cell_type": "markdown",
   "id": "74ee2e2b",
   "metadata": {},
   "source": [
    "### Execute job by process id"
   ]
  },
  {
   "cell_type": "code",
   "execution_count": null,
   "id": "28d06572",
   "metadata": {},
   "outputs": [],
   "source": [
    "r = requests.post(f\"{endpoint}/processes/{process_id}\", json={\"inputs\": process_inputs}, headers={\"Prefer\": \"respond-async\"})\n",
    "assert r.status_code == 201 and r.reason == 'Created', f'ERROR: request failed: {r.status_code} {r.reason}'\n",
    "\n",
    "location = r.headers['Location']\n",
    "job_id = location.split(\"/\")[4]\n",
    "\n",
    "print(f\"Process {process_id} executed\")\n",
    "print(f\"\\t{job_id}\")"
   ]
  },
  {
   "cell_type": "markdown",
   "id": "ea4d6f72",
   "metadata": {},
   "source": [
    "### Check job \n",
    "Edit the next block if you want to search for a different job_id, otherwise the last job_id will be used."
   ]
  },
  {
   "cell_type": "code",
   "execution_count": null,
   "id": "38a6b46e",
   "metadata": {},
   "outputs": [],
   "source": [
    "# job_id = \"\""
   ]
  },
  {
   "cell_type": "code",
   "execution_count": null,
   "id": "38b974a9",
   "metadata": {},
   "outputs": [],
   "source": [
    "status = 'running'\n",
    "wait_time = 20\n",
    "while status == 'running':\n",
    "  sleep(wait_time)\n",
    "  r = requests.get(f\"{endpoint}/jobs/{job_id}\", headers={'accept':'application/json'})\n",
    "  assert r.status_code == 200 and r.reason == 'OK', f'ERROR: request failed: {r.status_code} {r.reason}'\n",
    "\n",
    "  response = r.json()\n",
    "\n",
    "  status = response['status']\n",
    "  print(\"job_id: \", response['jobID'])\n",
    "  print(\"status: \", status)\n",
    "  print(\"message: \", response['message'])\n"
   ]
  },
  {
   "cell_type": "markdown",
   "id": "966184ec",
   "metadata": {},
   "source": [
    "### Get job results\n",
    "Edit the next block if you want to get the result of a different job_id, otherwise the last job_id will be used."
   ]
  },
  {
   "cell_type": "code",
   "execution_count": null,
   "id": "3aa6cbf2",
   "metadata": {},
   "outputs": [],
   "source": [
    "# job_id = \"\""
   ]
  },
  {
   "cell_type": "code",
   "execution_count": null,
   "id": "3cd35ec6",
   "metadata": {},
   "outputs": [],
   "source": [
    "r = requests.get(f\"{endpoint}/jobs/{job_id}/results\", headers={'accept':'application/json'})\n",
    "\n",
    "assert r.status_code == 200 and r.reason == 'OK', f'ERROR: request failed: {r.status_code} {r.reason}'\n",
    "\n",
    "response = r.json()\n",
    "base_path=response['StacCatalogUri'].split('/')[3]\n",
    "print(base_path)"
   ]
  },
  {
   "cell_type": "markdown",
   "id": "9d9335c6",
   "metadata": {},
   "source": [
    "### Undeploy a process\n",
    "Edit the next block to select the process that you want to undeploy"
   ]
  },
  {
   "cell_type": "code",
   "execution_count": null,
   "id": "7c75b5d4",
   "metadata": {},
   "outputs": [],
   "source": [
    "# process_id = \"bathymetry_pipeline\""
   ]
  },
  {
   "cell_type": "code",
   "execution_count": null,
   "id": "9dc0d54e",
   "metadata": {},
   "outputs": [],
   "source": [
    "r = requests.delete(f\"{endpoint}/processes/{process_id}\", headers={'accept':'application/json'})\n",
    "assert r.status_code == 204 and r.reason == 'No Content', f'ERROR: request failed: {r.status_code} {r.reason}'"
   ]
  },
  {
   "cell_type": "markdown",
   "id": "4f3e6f26",
   "metadata": {},
   "source": [
    "## S3 storage - ADES"
   ]
  },
  {
   "cell_type": "markdown",
   "id": "a4a8ad5b",
   "metadata": {},
   "source": [
    "### Install dependencies"
   ]
  },
  {
   "cell_type": "code",
   "execution_count": null,
   "id": "ee06ba3d",
   "metadata": {},
   "outputs": [],
   "source": [
    "!pip3 install boto3\n",
    "!pip3 install pyyaml\n",
    "!pip3 install pystac"
   ]
  },
  {
   "cell_type": "markdown",
   "id": "f3fba526",
   "metadata": {},
   "source": [
    "### Connect s3 storage"
   ]
  },
  {
   "cell_type": "code",
   "execution_count": null,
   "id": "e48344d6",
   "metadata": {},
   "outputs": [],
   "source": [
    "import boto3\n",
    "import yaml\n",
    "import os\n",
    "\n",
    "config = yaml.safe_load(open('config.yaml', 'r'))\n",
    "s3_region = config['s3']['region']\n",
    "s3_endpoint = config['s3']['endpoint']\n",
    "s3_access_key = config['s3']['access_key']\n",
    "s3_secret_key = config['s3']['secret_key']\n",
    "s3_bucket = config['s3']['bucket']\n",
    "session  = boto3.Session(region_name=s3_region)\n",
    "resource = session.resource('s3',\n",
    "                endpoint_url=s3_endpoint,\n",
    "                aws_access_key_id=s3_access_key,\n",
    "                aws_secret_access_key=s3_secret_key)\n",
    "\n",
    "bucket = resource.Bucket(s3_bucket)"
   ]
  },
  {
   "cell_type": "markdown",
   "id": "ed0f5e6f",
   "metadata": {},
   "source": [
    "### Print all objects"
   ]
  },
  {
   "cell_type": "code",
   "execution_count": null,
   "id": "f03c2845",
   "metadata": {},
   "outputs": [],
   "source": [
    "for file in bucket.objects.all():\n",
    "  print(file.key)"
   ]
  },
  {
   "cell_type": "markdown",
   "id": "56e89a40",
   "metadata": {},
   "source": [
    "### Filter objects\n",
    "Edit the next block to select a prefix to filter the objects"
   ]
  },
  {
   "cell_type": "code",
   "execution_count": null,
   "id": "11cb65dd",
   "metadata": {},
   "outputs": [],
   "source": [
    "#base_path = ''"
   ]
  },
  {
   "cell_type": "code",
   "execution_count": null,
   "id": "f26dbc81",
   "metadata": {},
   "outputs": [],
   "source": [
    "objs = bucket.objects.filter(Prefix=base_path)\n",
    "\n",
    "for i in objs:\n",
    "  print(i.key)"
   ]
  },
  {
   "cell_type": "markdown",
   "id": "ebf7dfcf",
   "metadata": {},
   "source": [
    "### Download Folder\n",
    "Edit the next block to select a prefix to filter the objects"
   ]
  },
  {
   "cell_type": "code",
   "execution_count": null,
   "id": "1e9441ea",
   "metadata": {},
   "outputs": [],
   "source": [
    "# prefix = ''"
   ]
  },
  {
   "cell_type": "code",
   "execution_count": null,
   "id": "a6e16ced",
   "metadata": {},
   "outputs": [],
   "source": [
    "for obj in bucket.objects.filter(Prefix = base_path):\n",
    "    if not os.path.exists(os.path.dirname(obj.key)):\n",
    "        os.makedirs(os.path.dirname(obj.key))\n",
    "    bucket.download_file(obj.key, obj.key)\n",
    "\n",
    "\n",
    "# Download a file\n",
    "# bucket.download_file('origin', 'destination')"
   ]
  },
  {
   "cell_type": "markdown",
   "id": "d6432a75",
   "metadata": {},
   "source": [
    "### S3 metadata"
   ]
  },
  {
   "cell_type": "code",
   "execution_count": null,
   "id": "c8d54842",
   "metadata": {},
   "outputs": [],
   "source": [
    "resource.meta.client.list_objects(Bucket=s3_bucket, Prefix='', Delimiter='/')"
   ]
  }
 ],
 "metadata": {
  "kernelspec": {
   "display_name": "Python 3",
   "language": "python",
   "name": "python3"
  },
  "language_info": {
   "codemirror_mode": {
    "name": "ipython",
    "version": 3
   },
   "file_extension": ".py",
   "mimetype": "text/x-python",
   "name": "python",
   "nbconvert_exporter": "python",
   "pygments_lexer": "ipython3",
   "version": "3.11.11"
  }
 },
 "nbformat": 4,
 "nbformat_minor": 5
}
